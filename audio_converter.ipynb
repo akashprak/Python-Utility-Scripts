{
  "cells": [
    {
      "cell_type": "markdown",
      "metadata": {
        "id": "qY4pE322M4j6"
      },
      "source": [
        "Step 1 : Install __ffmpeg__ : https://ffmpeg.org\n",
        "\n",
        "Step 2 :\n",
        "```bash\n",
        "pip install ffmpeg-python\n",
        "```"
      ]
    },
    {
      "cell_type": "code",
      "execution_count": 1,
      "metadata": {
        "id": "7Y4Re_5ZMvlW"
      },
      "outputs": [],
      "source": [
        "import ffmpeg\n",
        "from pathlib import Path\n",
        "\n",
        "def convert_audio(input_path: str, output_format: str, output_path: str) -> str:\n",
        "    try:\n",
        "        if Path(output_path).exists():\n",
        "            raise Exception(f'{output_path} already exists.')\n",
        "        ffmpeg.input(input_path).output(output_path, format=output_format).run()\n",
        "        return output_path\n",
        "\n",
        "    except ffmpeg.Error as e:\n",
        "        print(f\"Error converting audio: {e.stderr.decode()}\")\n",
        "        raise"
      ]
    },
    {
      "cell_type": "code",
      "execution_count": 2,
      "metadata": {
        "colab": {
          "base_uri": "https://localhost:8080/",
          "height": 36
        },
        "id": "_Mdtm0RBM1UH",
        "outputId": "0f40ed83-1662-4f94-cdfb-6fbad9936c94"
      },
      "outputs": [
        {
          "data": {
            "application/vnd.google.colaboratory.intrinsic+json": {
              "type": "string"
            },
            "text/plain": [
              "'output.wav'"
            ]
          },
          "execution_count": 2,
          "metadata": {},
          "output_type": "execute_result"
        }
      ],
      "source": [
        "convert_audio(\"https://download.samplelib.com/mp3/sample-3s.mp3\", \"wav\", \"output.wav\")"
      ]
    }
  ],
  "metadata": {
    "colab": {
      "provenance": []
    },
    "kernelspec": {
      "display_name": "pyeleven",
      "language": "python",
      "name": "python3"
    },
    "language_info": {
      "name": "python",
      "version": "3.11.5"
    }
  },
  "nbformat": 4,
  "nbformat_minor": 0
}
