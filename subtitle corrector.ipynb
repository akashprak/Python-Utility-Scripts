{
 "cells": [
  {
   "cell_type": "code",
   "execution_count": 1,
   "id": "ac1b982c",
   "metadata": {},
   "outputs": [],
   "source": [
    "from datetime import timedelta\n",
    "import re\n",
    "\n",
    "class SubtitleCorrector:\n",
    "    def __init__(self, input_path):\n",
    "        self.input_path = input_path\n",
    "        self.timestamp_pattern = re.compile(r'(\\d{2}:\\d{2}:\\d{2},\\d{3}) --> (\\d{2}:\\d{2}:\\d{2},\\d{3})')\n",
    "\n",
    "    def parse_timestamp(self, timestamp):\n",
    "        hours, minutes, seconds_millis = timestamp.split(':')\n",
    "        seconds, millis = seconds_millis.split(',')\n",
    "        return timedelta(\n",
    "            hours=int(hours), minutes=int(minutes), seconds=int(seconds), milliseconds=int(millis)\n",
    "        )\n",
    "\n",
    "    def format_timestamp(self, td):\n",
    "        total_seconds = int(td.total_seconds())\n",
    "        millis = int(td.microseconds / 1000)\n",
    "        hours = total_seconds // 3600\n",
    "        minutes = (total_seconds % 3600) // 60\n",
    "        seconds = total_seconds % 60\n",
    "        return f\"{hours:02}:{minutes:02}:{seconds:02},{millis:03}\"\n",
    "\n",
    "    def corrector(self,hours=0, minutes=0, seconds=0, milliseconds=0, direction='subtract', output_path='output.srt'):\n",
    "        \"\"\"\n",
    "        Adjusts subtitle timestamps by adding or subtracting the specified time.\n",
    "        \"\"\"\n",
    "        delta = timedelta(hours=hours, minutes=minutes, seconds=seconds, milliseconds=milliseconds)\n",
    "        if direction not in ('add', 'subtract'):\n",
    "            raise ValueError(\"direction must be 'add' or 'subtract'\")\n",
    "\n",
    "        with open(self.input_path, 'r', encoding='utf-8') as f:\n",
    "            lines = f.readlines()\n",
    "\n",
    "        new_lines = []\n",
    "        for line in lines:\n",
    "            match = self.timestamp_pattern.match(line.strip())\n",
    "            if match:\n",
    "                start, end = match.groups()\n",
    "                start_td = self.parse_timestamp(start)\n",
    "                end_td = self.parse_timestamp(end)\n",
    "                if direction == 'add':\n",
    "                    start_td += delta\n",
    "                    end_td += delta\n",
    "                else:\n",
    "                    start_td -= delta\n",
    "                    end_td -= delta\n",
    "                # Clamp to zero if negative\n",
    "                if start_td.total_seconds() < 0:\n",
    "                    start_td = timedelta(0)\n",
    "                if end_td.total_seconds() < 0:\n",
    "                    end_td = timedelta(0)\n",
    "                new_line = f\"{self.format_timestamp(start_td)} --> {self.format_timestamp(end_td)}\\n\"\n",
    "                new_lines.append(new_line)\n",
    "            else:\n",
    "                new_lines.append(line)\n",
    "\n",
    "        with open(output_path, 'w', encoding='utf-8') as f:\n",
    "            f.writelines(new_lines)\n",
    "        return output_path"
   ]
  },
  {
   "cell_type": "code",
   "execution_count": 4,
   "id": "8b3f3343",
   "metadata": {},
   "outputs": [
    {
     "data": {
      "text/plain": [
       "'sample_data/output.srt'"
      ]
     },
     "execution_count": 4,
     "metadata": {},
     "output_type": "execute_result"
    }
   ],
   "source": [
    "sc = SubtitleCorrector('sample_data/sample_subtitle.srt')\n",
    "sc.corrector(seconds=10,milliseconds=500, direction='add', output_path='sample_data/output.srt')"
   ]
  }
 ],
 "metadata": {
  "kernelspec": {
   "display_name": "pyeleven",
   "language": "python",
   "name": "python3"
  },
  "language_info": {
   "codemirror_mode": {
    "name": "ipython",
    "version": 3
   },
   "file_extension": ".py",
   "mimetype": "text/x-python",
   "name": "python",
   "nbconvert_exporter": "python",
   "pygments_lexer": "ipython3",
   "version": "3.11.5"
  }
 },
 "nbformat": 4,
 "nbformat_minor": 5
}
